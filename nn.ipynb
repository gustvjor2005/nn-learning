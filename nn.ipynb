{
  "nbformat": 4,
  "nbformat_minor": 0,
  "metadata": {
    "colab": {
      "provenance": [],
      "authorship_tag": "ABX9TyOokoDzbTqf8Qy/e1QMgIS1",
      "include_colab_link": true
    },
    "kernelspec": {
      "name": "python3",
      "display_name": "Python 3"
    },
    "language_info": {
      "name": "python"
    }
  },
  "cells": [
    {
      "cell_type": "markdown",
      "metadata": {
        "id": "view-in-github",
        "colab_type": "text"
      },
      "source": [
        "<a href=\"https://colab.research.google.com/github/gustvjor2005/nn-learning/blob/main/nn.ipynb\" target=\"_parent\"><img src=\"https://colab.research.google.com/assets/colab-badge.svg\" alt=\"Open In Colab\"/></a>"
      ]
    },
    {
      "cell_type": "code",
      "source": [
        "import torch\n",
        "import torch.nn as nn\n",
        "import matplotlib.pyplot as plt\n",
        "from torch.utils.data import Dataset, DataLoader\n",
        "from torch import optim\n",
        "from torch import sigmoid"
      ],
      "metadata": {
        "id": "3X97Lc5HXXI1"
      },
      "execution_count": null,
      "outputs": []
    },
    {
      "cell_type": "code",
      "source": [
        "X = torch.arange(-20, 20, 1).view(-1, 1).type(torch.FloatTensor)\n",
        "Y = torch.zeros(X.shape[0]).view(-1, 1).type(torch.FloatTensor)\n",
        "Y[(X[:, 0] > -4) & (X[:, 0] < 4) ] = 1.0\n",
        "plt.plot(X, Y)\n",
        "plt.show\n",
        "#que me funciona?\n",
        "#X[:, 0] > 18 devuelve los indices\n",
        "#que corresponden a esa condición"
      ],
      "metadata": {
        "colab": {
          "base_uri": "https://localhost:8080/",
          "height": 282
        },
        "id": "fOuSB5MiYX88",
        "outputId": "cda07348-4dd1-4c7d-be6b-1ae69375b1e4"
      },
      "execution_count": null,
      "outputs": [
        {
          "output_type": "execute_result",
          "data": {
            "text/plain": [
              "<function matplotlib.pyplot.show(*args, **kw)>"
            ]
          },
          "metadata": {},
          "execution_count": 2
        },
        {
          "output_type": "display_data",
          "data": {
            "text/plain": [
              "<Figure size 432x288 with 1 Axes>"
            ],
            "image/png": "[encoded data removed]"
          },
          "metadata": {
            "needs_background": "light"
          }
        }
      ]
    },
    {
      "cell_type": "code",
      "source": [
        "class Data(Dataset):\n",
        "\n",
        "  def __init__(self):\n",
        "    self.x = X\n",
        "    self.y = Y\n",
        "    self.len = self.x.shape[0]\n",
        "  \n",
        "  def __getitem__(self, index):\n",
        "    return self.x[index], self.y[index]\n",
        "  \n",
        "  def __len__(self):  \n",
        "    return self.len"
      ],
      "metadata": {
        "id": "ox41K-ath5E8"
      },
      "execution_count": null,
      "outputs": []
    },
    {
      "cell_type": "code",
      "source": [
        "#criterion\n",
        "criterion = nn.CrossEntropyLoss()\n",
        "#dataset\n",
        "dataset = Data()\n",
        "dataloader = DataLoader(dataset=dataset, batch_size=1)"
      ],
      "metadata": {
        "id": "PhyqUi8ykUCU"
      },
      "execution_count": null,
      "outputs": []
    },
    {
      "cell_type": "code",
      "source": [
        "def criterion(outputs, labels):\n",
        "    out = -1 * torch.mean(labels * torch.log(outputs) + (1 - labels) * torch.log(1 - outputs))\n",
        "    return out"
      ],
      "metadata": {
        "id": "J9PZqrRoVLsj"
      },
      "execution_count": null,
      "outputs": []
    },
    {
      "cell_type": "code",
      "source": [
        "class NN(nn.Module):\n",
        "\n",
        "  def __init__(self, in_, h_, out_):\n",
        "    super().__init__()\n",
        "    self.linear1 = nn.Linear(in_, h_)\n",
        "    self.linear2 = nn.Linear(h_, out_)\n",
        "    \n",
        "    \n",
        "  def forward(self, x):\n",
        "    x = sigmoid(self.linear1(x))\n",
        "    x = sigmoid(self.linear2(x))\n",
        "    return x\n",
        "\n",
        "#in\n",
        "# x (1, 1)\n",
        "# w (1, 2) -> Trans(tensor([[ 0.3744],[-0.2190]])\n",
        "#h\n",
        "# a = (1, 2)\n",
        "# w = (2, 1)  -> Trans(tensor([[0.2395, 0.6382]])\n",
        "#out\n",
        "# a = (1, 1)\n",
        "\n",
        "model = NN(1, 2, 1)\n",
        "print(model.state_dict())"
      ],
      "metadata": {
        "colab": {
          "base_uri": "https://localhost:8080/"
        },
        "id": "X1ASOZjgdM8x",
        "outputId": "1f9a26c3-12d5-4ebb-8f17-37eb7e2db967"
      },
      "execution_count": null,
      "outputs": [
        {
          "output_type": "stream",
          "name": "stdout",
          "text": [
            "OrderedDict([('linear1.weight', tensor([[0.2267],\n",
            "        [0.0984]])), ('linear1.bias', tensor([0.8121, 0.3067])), ('linear2.weight', tensor([[ 0.0928, -0.1393]])), ('linear2.bias', tensor([0.2295]))])\n"
          ]
        }
      ]
    },
    {
      "cell_type": "code",
      "source": [
        "#optimizer\n",
        "optimizer = optim.SGD(model.parameters(), lr=.01)"
      ],
      "metadata": {
        "id": "_quXXD88kr0T"
      },
      "execution_count": null,
      "outputs": []
    },
    {
      "cell_type": "code",
      "source": [
        "epochs = 3\n",
        "COST = []\n",
        "for i in range(epochs):\n",
        "  total = 0\n",
        "  for x, y in dataloader:\n",
        "    yhat = model(x)\n",
        "    print(yhat, y)\n",
        "    loss = criterion(yhat, y)\n",
        "    optimizer.zero_grad()\n",
        "    loss.backward()\n",
        "    optimizer.step()\n",
        "    total += loss.item()\n",
        "\n",
        "  COST.append(total)\n",
        "print('cost, ', COST)\n",
        "plt.plot(COST)\n",
        "plt.show()"
      ],
      "metadata": {
        "colab": {
          "base_uri": "https://localhost:8080/",
          "height": 1000
        },
        "id": "ujDpvYJ_hGe7",
        "outputId": "b19458c3-a229-4d4c-bf7f-8ff6f7225edf"
      },
      "execution_count": null,
      "outputs": [
        {
          "output_type": "stream",
          "name": "stdout",
          "text": [
            "tensor([[0.2898]], grad_fn=<SigmoidBackward0>) tensor([[0.]])\n",
            "tensor([[0.2842]], grad_fn=<SigmoidBackward0>) tensor([[0.]])\n",
            "tensor([[0.2794]], grad_fn=<SigmoidBackward0>) tensor([[0.]])\n",
            "tensor([[0.2753]], grad_fn=<SigmoidBackward0>) tensor([[0.]])\n",
            "tensor([[0.2717]], grad_fn=<SigmoidBackward0>) tensor([[0.]])\n",
            "tensor([[0.2685]], grad_fn=<SigmoidBackward0>) tensor([[0.]])\n",
            "tensor([[0.2655]], grad_fn=<SigmoidBackward0>) tensor([[0.]])\n",
            "tensor([[0.2628]], grad_fn=<SigmoidBackward0>) tensor([[0.]])\n",
            "tensor([[0.2602]], grad_fn=<SigmoidBackward0>) tensor([[0.]])\n",
            "tensor([[0.2578]], grad_fn=<SigmoidBackward0>) tensor([[0.]])\n",
            "tensor([[0.2555]], grad_fn=<SigmoidBackward0>) tensor([[0.]])\n",
            "tensor([[0.2534]], grad_fn=<SigmoidBackward0>) tensor([[0.]])\n",
            "tensor([[0.2514]], grad_fn=<SigmoidBackward0>) tensor([[0.]])\n",
            "tensor([[0.2495]], grad_fn=<SigmoidBackward0>) tensor([[0.]])\n",
            "tensor([[0.2479]], grad_fn=<SigmoidBackward0>) tensor([[0.]])\n",
            "tensor([[0.2464]], grad_fn=<SigmoidBackward0>) tensor([[0.]])\n",
            "tensor([[0.2450]], grad_fn=<SigmoidBackward0>) tensor([[0.]])\n",
            "tensor([[0.2439]], grad_fn=<SigmoidBackward0>) tensor([[1.]])\n",
            "tensor([[0.2465]], grad_fn=<SigmoidBackward0>) tensor([[1.]])\n",
            "tensor([[0.2490]], grad_fn=<SigmoidBackward0>) tensor([[1.]])\n",
            "tensor([[0.2515]], grad_fn=<SigmoidBackward0>) tensor([[1.]])\n",
            "tensor([[0.2542]], grad_fn=<SigmoidBackward0>) tensor([[1.]])\n",
            "tensor([[0.2572]], grad_fn=<SigmoidBackward0>) tensor([[1.]])\n",
            "tensor([[0.2605]], grad_fn=<SigmoidBackward0>) tensor([[1.]])\n",
            "tensor([[0.2642]], grad_fn=<SigmoidBackward0>) tensor([[0.]])\n",
            "tensor([[0.2638]], grad_fn=<SigmoidBackward0>) tensor([[0.]])\n",
            "tensor([[0.2633]], grad_fn=<SigmoidBackward0>) tensor([[0.]])\n",
            "tensor([[0.2628]], grad_fn=<SigmoidBackward0>) tensor([[0.]])\n",
            "tensor([[0.2621]], grad_fn=<SigmoidBackward0>) tensor([[0.]])\n",
            "tensor([[0.2612]], grad_fn=<SigmoidBackward0>) tensor([[0.]])\n",
            "tensor([[0.2602]], grad_fn=<SigmoidBackward0>) tensor([[0.]])\n",
            "tensor([[0.2589]], grad_fn=<SigmoidBackward0>) tensor([[0.]])\n",
            "tensor([[0.2575]], grad_fn=<SigmoidBackward0>) tensor([[0.]])\n",
            "tensor([[0.2557]], grad_fn=<SigmoidBackward0>) tensor([[0.]])\n",
            "tensor([[0.2536]], grad_fn=<SigmoidBackward0>) tensor([[0.]])\n",
            "tensor([[0.2512]], grad_fn=<SigmoidBackward0>) tensor([[0.]])\n",
            "tensor([[0.2484]], grad_fn=<SigmoidBackward0>) tensor([[0.]])\n",
            "tensor([[0.2453]], grad_fn=<SigmoidBackward0>) tensor([[0.]])\n",
            "tensor([[0.2417]], grad_fn=<SigmoidBackward0>) tensor([[0.]])\n",
            "tensor([[0.2378]], grad_fn=<SigmoidBackward0>) tensor([[0.]])\n",
            "tensor([[0.2784]], grad_fn=<SigmoidBackward0>) tensor([[0.]])\n",
            "tensor([[0.2728]], grad_fn=<SigmoidBackward0>) tensor([[0.]])\n",
            "tensor([[0.2680]], grad_fn=<SigmoidBackward0>) tensor([[0.]])\n",
            "tensor([[0.2639]], grad_fn=<SigmoidBackward0>) tensor([[0.]])\n",
            "tensor([[0.2603]], grad_fn=<SigmoidBackward0>) tensor([[0.]])\n",
            "tensor([[0.2570]], grad_fn=<SigmoidBackward0>) tensor([[0.]])\n",
            "tensor([[0.2541]], grad_fn=<SigmoidBackward0>) tensor([[0.]])\n",
            "tensor([[0.2513]], grad_fn=<SigmoidBackward0>) tensor([[0.]])\n",
            "tensor([[0.2488]], grad_fn=<SigmoidBackward0>) tensor([[0.]])\n",
            "tensor([[0.2464]], grad_fn=<SigmoidBackward0>) tensor([[0.]])\n",
            "tensor([[0.2442]], grad_fn=<SigmoidBackward0>) tensor([[0.]])\n",
            "tensor([[0.2422]], grad_fn=<SigmoidBackward0>) tensor([[0.]])\n",
            "tensor([[0.2403]], grad_fn=<SigmoidBackward0>) tensor([[0.]])\n",
            "tensor([[0.2387]], grad_fn=<SigmoidBackward0>) tensor([[0.]])\n",
            "tensor([[0.2372]], grad_fn=<SigmoidBackward0>) tensor([[0.]])\n",
            "tensor([[0.2359]], grad_fn=<SigmoidBackward0>) tensor([[0.]])\n",
            "tensor([[0.2348]], grad_fn=<SigmoidBackward0>) tensor([[0.]])\n",
            "tensor([[0.2339]], grad_fn=<SigmoidBackward0>) tensor([[1.]])\n",
            "tensor([[0.2367]], grad_fn=<SigmoidBackward0>) tensor([[1.]])\n",
            "tensor([[0.2393]], grad_fn=<SigmoidBackward0>) tensor([[1.]])\n",
            "tensor([[0.2420]], grad_fn=<SigmoidBackward0>) tensor([[1.]])\n",
            "tensor([[0.2448]], grad_fn=<SigmoidBackward0>) tensor([[1.]])\n",
            "tensor([[0.2478]], grad_fn=<SigmoidBackward0>) tensor([[1.]])\n",
            "tensor([[0.2512]], grad_fn=<SigmoidBackward0>) tensor([[1.]])\n",
            "tensor([[0.2550]], grad_fn=<SigmoidBackward0>) tensor([[0.]])\n",
            "tensor([[0.2547]], grad_fn=<SigmoidBackward0>) tensor([[0.]])\n",
            "tensor([[0.2543]], grad_fn=<SigmoidBackward0>) tensor([[0.]])\n",
            "tensor([[0.2538]], grad_fn=<SigmoidBackward0>) tensor([[0.]])\n",
            "tensor([[0.2532]], grad_fn=<SigmoidBackward0>) tensor([[0.]])\n",
            "tensor([[0.2525]], grad_fn=<SigmoidBackward0>) tensor([[0.]])\n",
            "tensor([[0.2515]], grad_fn=<SigmoidBackward0>) tensor([[0.]])\n",
            "tensor([[0.2503]], grad_fn=<SigmoidBackward0>) tensor([[0.]])\n",
            "tensor([[0.2489]], grad_fn=<SigmoidBackward0>) tensor([[0.]])\n",
            "tensor([[0.2472]], grad_fn=<SigmoidBackward0>) tensor([[0.]])\n",
            "tensor([[0.2451]], grad_fn=<SigmoidBackward0>) tensor([[0.]])\n",
            "tensor([[0.2428]], grad_fn=<SigmoidBackward0>) tensor([[0.]])\n",
            "tensor([[0.2400]], grad_fn=<SigmoidBackward0>) tensor([[0.]])\n",
            "tensor([[0.2369]], grad_fn=<SigmoidBackward0>) tensor([[0.]])\n",
            "tensor([[0.2334]], grad_fn=<SigmoidBackward0>) tensor([[0.]])\n",
            "tensor([[0.2296]], grad_fn=<SigmoidBackward0>) tensor([[0.]])\n",
            "tensor([[0.2683]], grad_fn=<SigmoidBackward0>) tensor([[0.]])\n",
            "tensor([[0.2627]], grad_fn=<SigmoidBackward0>) tensor([[0.]])\n",
            "tensor([[0.2578]], grad_fn=<SigmoidBackward0>) tensor([[0.]])\n",
            "tensor([[0.2537]], grad_fn=<SigmoidBackward0>) tensor([[0.]])\n",
            "tensor([[0.2500]], grad_fn=<SigmoidBackward0>) tensor([[0.]])\n",
            "tensor([[0.2467]], grad_fn=<SigmoidBackward0>) tensor([[0.]])\n",
            "tensor([[0.2437]], grad_fn=<SigmoidBackward0>) tensor([[0.]])\n",
            "tensor([[0.2410]], grad_fn=<SigmoidBackward0>) tensor([[0.]])\n",
            "tensor([[0.2385]], grad_fn=<SigmoidBackward0>) tensor([[0.]])\n",
            "tensor([[0.2362]], grad_fn=<SigmoidBackward0>) tensor([[0.]])\n",
            "tensor([[0.2341]], grad_fn=<SigmoidBackward0>) tensor([[0.]])\n",
            "tensor([[0.2322]], grad_fn=<SigmoidBackward0>) tensor([[0.]])\n",
            "tensor([[0.2305]], grad_fn=<SigmoidBackward0>) tensor([[0.]])\n",
            "tensor([[0.2291]], grad_fn=<SigmoidBackward0>) tensor([[0.]])\n",
            "tensor([[0.2278]], grad_fn=<SigmoidBackward0>) tensor([[0.]])\n",
            "tensor([[0.2268]], grad_fn=<SigmoidBackward0>) tensor([[0.]])\n",
            "tensor([[0.2259]], grad_fn=<SigmoidBackward0>) tensor([[0.]])\n",
            "tensor([[0.2252]], grad_fn=<SigmoidBackward0>) tensor([[1.]])\n",
            "tensor([[0.2282]], grad_fn=<SigmoidBackward0>) tensor([[1.]])\n",
            "tensor([[0.2310]], grad_fn=<SigmoidBackward0>) tensor([[1.]])\n",
            "tensor([[0.2338]], grad_fn=<SigmoidBackward0>) tensor([[1.]])\n",
            "tensor([[0.2367]], grad_fn=<SigmoidBackward0>) tensor([[1.]])\n",
            "tensor([[0.2398]], grad_fn=<SigmoidBackward0>) tensor([[1.]])\n",
            "tensor([[0.2432]], grad_fn=<SigmoidBackward0>) tensor([[1.]])\n",
            "tensor([[0.2471]], grad_fn=<SigmoidBackward0>) tensor([[0.]])\n",
            "tensor([[0.2469]], grad_fn=<SigmoidBackward0>) tensor([[0.]])\n",
            "tensor([[0.2466]], grad_fn=<SigmoidBackward0>) tensor([[0.]])\n",
            "tensor([[0.2462]], grad_fn=<SigmoidBackward0>) tensor([[0.]])\n",
            "tensor([[0.2457]], grad_fn=<SigmoidBackward0>) tensor([[0.]])\n",
            "tensor([[0.2450]], grad_fn=<SigmoidBackward0>) tensor([[0.]])\n",
            "tensor([[0.2441]], grad_fn=<SigmoidBackward0>) tensor([[0.]])\n",
            "tensor([[0.2429]], grad_fn=<SigmoidBackward0>) tensor([[0.]])\n",
            "tensor([[0.2415]], grad_fn=<SigmoidBackward0>) tensor([[0.]])\n",
            "tensor([[0.2398]], grad_fn=<SigmoidBackward0>) tensor([[0.]])\n",
            "tensor([[0.2378]], grad_fn=<SigmoidBackward0>) tensor([[0.]])\n",
            "tensor([[0.2354]], grad_fn=<SigmoidBackward0>) tensor([[0.]])\n",
            "tensor([[0.2327]], grad_fn=<SigmoidBackward0>) tensor([[0.]])\n",
            "tensor([[0.2296]], grad_fn=<SigmoidBackward0>) tensor([[0.]])\n",
            "tensor([[0.2262]], grad_fn=<SigmoidBackward0>) tensor([[0.]])\n",
            "tensor([[0.2223]], grad_fn=<SigmoidBackward0>) tensor([[0.]])\n",
            "cost,  [19.55745580792427, 19.388362854719162, 19.24881201982498]\n"
          ]
        },
        {
          "output_type": "display_data",
          "data": {
            "text/plain": [
              "<Figure size 432x288 with 1 Axes>"
            ],
            "image/png": "[encoded data removed]"
          },
          "metadata": {
            "needs_background": "light"
          }
        }
      ]
    }
  ]
}